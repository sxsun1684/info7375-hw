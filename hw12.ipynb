{
 "cells": [
  {
   "cell_type": "code",
   "execution_count": null,
   "id": "initial_id",
   "metadata": {
    "collapsed": true
   },
   "outputs": [],
   "source": [
    ""
   ]
  },
  {
   "metadata": {},
   "cell_type": "markdown",
   "source": "Implement a mini batch approach.",
   "id": "e2f1f3f2c56b44ef"
  },
  {
   "metadata": {
    "ExecuteTime": {
     "end_time": "2025-10-09T11:18:46.786043Z",
     "start_time": "2025-10-09T11:18:39.567377Z"
    }
   },
   "cell_type": "code",
   "source": [
    "import numpy as np\n",
    "\n",
    "# ---- 1. Generate synthetic data ----\n",
    "np.random.seed(42)\n",
    "X = np.random.rand(1000, 1)  # 1000 samples, 1 feature\n",
    "y = 3 * X + 2 + np.random.randn(1000, 1) * 0.1  # linear relation with noise\n",
    "\n",
    "# ---- 2. Initialize parameters ----\n",
    "w = np.random.randn(1, 1)\n",
    "b = np.zeros((1, 1))\n",
    "\n",
    "# ---- 3. Set hyperparameters ----\n",
    "learning_rate = 0.05\n",
    "batch_size = 64\n",
    "epochs = 50\n",
    "\n",
    "# ---- 4. Training loop (Mini-Batch Gradient Descent) ----\n",
    "for epoch in range(epochs):\n",
    "    # Shuffle the dataset at the start of each epoch\n",
    "    indices = np.arange(X.shape[0])\n",
    "    np.random.shuffle(indices)\n",
    "    X = X[indices]\n",
    "    y = y[indices]\n",
    "\n",
    "    for start in range(0, X.shape[0], batch_size):\n",
    "        end = start + batch_size\n",
    "        X_batch = X[start:end]\n",
    "        y_batch = y[start:end]\n",
    "\n",
    "        # ---- Forward pass ----\n",
    "        y_pred = X_batch.dot(w) + b\n",
    "\n",
    "        # ---- Compute gradients ----\n",
    "        error = y_pred - y_batch\n",
    "        dw = (1 / batch_size) * X_batch.T.dot(error)\n",
    "        db = (1 / batch_size) * np.sum(error)\n",
    "\n",
    "        # ---- Parameter update ----\n",
    "        w -= learning_rate * dw\n",
    "        b -= learning_rate * db\n",
    "\n",
    "    # Compute loss for monitoring\n",
    "    y_full_pred = X.dot(w) + b\n",
    "    loss = np.mean((y_full_pred - y) ** 2)\n",
    "    print(f\"Epoch {epoch+1}/{epochs} | Loss: {loss:.4f}\")\n",
    "\n",
    "print(\"\\nLearned parameters:\")\n",
    "print(f\"w = {w.flatten()[0]:.3f}, b = {b.flatten()[0]:.3f}\")\n"
   ],
   "id": "4763ac3d18caa480",
   "outputs": [
    {
     "name": "stdout",
     "output_type": "stream",
     "text": [
      "Epoch 1/50 | Loss: 2.9726\n",
      "Epoch 2/50 | Loss: 0.8052\n",
      "Epoch 3/50 | Loss: 0.4781\n",
      "Epoch 4/50 | Loss: 0.4001\n",
      "Epoch 5/50 | Loss: 0.3564\n",
      "Epoch 6/50 | Loss: 0.3208\n",
      "Epoch 7/50 | Loss: 0.2893\n",
      "Epoch 8/50 | Loss: 0.2611\n",
      "Epoch 9/50 | Loss: 0.2358\n",
      "Epoch 10/50 | Loss: 0.2131\n",
      "Epoch 11/50 | Loss: 0.1926\n",
      "Epoch 12/50 | Loss: 0.1742\n",
      "Epoch 13/50 | Loss: 0.1576\n",
      "Epoch 14/50 | Loss: 0.1428\n",
      "Epoch 15/50 | Loss: 0.1293\n",
      "Epoch 16/50 | Loss: 0.1173\n",
      "Epoch 17/50 | Loss: 0.1065\n",
      "Epoch 18/50 | Loss: 0.0967\n",
      "Epoch 19/50 | Loss: 0.0880\n",
      "Epoch 20/50 | Loss: 0.0801\n",
      "Epoch 21/50 | Loss: 0.0730\n",
      "Epoch 22/50 | Loss: 0.0666\n",
      "Epoch 23/50 | Loss: 0.0609\n",
      "Epoch 24/50 | Loss: 0.0558\n",
      "Epoch 25/50 | Loss: 0.0511\n",
      "Epoch 26/50 | Loss: 0.0470\n",
      "Epoch 27/50 | Loss: 0.0432\n",
      "Epoch 28/50 | Loss: 0.0398\n",
      "Epoch 29/50 | Loss: 0.0368\n",
      "Epoch 30/50 | Loss: 0.0341\n",
      "Epoch 31/50 | Loss: 0.0316\n",
      "Epoch 32/50 | Loss: 0.0294\n",
      "Epoch 33/50 | Loss: 0.0274\n",
      "Epoch 34/50 | Loss: 0.0257\n",
      "Epoch 35/50 | Loss: 0.0241\n",
      "Epoch 36/50 | Loss: 0.0226\n",
      "Epoch 37/50 | Loss: 0.0213\n",
      "Epoch 38/50 | Loss: 0.0202\n",
      "Epoch 39/50 | Loss: 0.0191\n",
      "Epoch 40/50 | Loss: 0.0182\n",
      "Epoch 41/50 | Loss: 0.0173\n",
      "Epoch 42/50 | Loss: 0.0166\n",
      "Epoch 43/50 | Loss: 0.0159\n",
      "Epoch 44/50 | Loss: 0.0153\n",
      "Epoch 45/50 | Loss: 0.0147\n",
      "Epoch 46/50 | Loss: 0.0142\n",
      "Epoch 47/50 | Loss: 0.0138\n",
      "Epoch 48/50 | Loss: 0.0134\n",
      "Epoch 49/50 | Loss: 0.0130\n",
      "Epoch 50/50 | Loss: 0.0127\n",
      "\n",
      "Learned parameters:\n",
      "w = 2.801, b = 2.113\n"
     ]
    }
   ],
   "execution_count": 1
  },
  {
   "metadata": {},
   "cell_type": "code",
   "outputs": [],
   "execution_count": null,
   "source": "",
   "id": "789ef869e5f4aa13"
  }
 ],
 "metadata": {
  "kernelspec": {
   "display_name": "Python 3",
   "language": "python",
   "name": "python3"
  },
  "language_info": {
   "codemirror_mode": {
    "name": "ipython",
    "version": 2
   },
   "file_extension": ".py",
   "mimetype": "text/x-python",
   "name": "python",
   "nbconvert_exporter": "python",
   "pygments_lexer": "ipython2",
   "version": "2.7.6"
  }
 },
 "nbformat": 4,
 "nbformat_minor": 5
}
