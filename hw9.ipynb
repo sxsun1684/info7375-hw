{
 "cells": [
  {
   "metadata": {},
   "cell_type": "markdown",
   "source": "Develop a prototype of the training, validation, and testing sets of your choice for the future training of your neural network. The term “prototype” means that the sets may be quite limited by number of images, but the proportions of images in them should be maintained as required",
   "id": "104163b9ddc1288f"
  },
  {
   "metadata": {
    "collapsed": true,
    "ExecuteTime": {
     "end_time": "2025-10-02T10:31:00.579779Z",
     "start_time": "2025-10-02T10:31:00.438936Z"
    }
   },
   "cell_type": "code",
   "source": [
    "import numpy as np\n",
    "\n",
    "# Suppose we have 100 images (placeholders)\n",
    "images = np.arange(100)  # fake image IDs\n",
    "labels = np.repeat(np.arange(10), 10)  # 10 classes, 10 images each\n",
    "\n",
    "# Shuffle indices\n",
    "idx = np.random.permutation(len(images))\n",
    "\n",
    "# Split indices\n",
    "n_train = int(0.7 * len(images))\n",
    "n_val = int(0.15 * len(images))\n",
    "\n",
    "train_idx = idx[:n_train]\n",
    "val_idx = idx[n_train:n_train+n_val]\n",
    "test_idx = idx[n_train+n_val:]\n",
    "\n",
    "# Prototype splits\n",
    "train_set = (images[train_idx], labels[train_idx])\n",
    "val_set   = (images[val_idx], labels[val_idx])\n",
    "test_set  = (images[test_idx], labels[test_idx])\n",
    "\n",
    "print(\"Train size:\", len(train_set[0]))\n",
    "print(\"Val size:\", len(val_set[0]))\n",
    "print(\"Test size:\", len(test_set[0]))\n"
   ],
   "id": "initial_id",
   "outputs": [
    {
     "name": "stdout",
     "output_type": "stream",
     "text": [
      "Train size: 70\n",
      "Val size: 15\n",
      "Test size: 15\n"
     ]
    }
   ],
   "execution_count": 1
  },
  {
   "metadata": {},
   "cell_type": "code",
   "outputs": [],
   "execution_count": null,
   "source": "",
   "id": "60f72682700156c6"
  }
 ],
 "metadata": {
  "kernelspec": {
   "display_name": "Python 3",
   "language": "python",
   "name": "python3"
  },
  "language_info": {
   "codemirror_mode": {
    "name": "ipython",
    "version": 2
   },
   "file_extension": ".py",
   "mimetype": "text/x-python",
   "name": "python",
   "nbconvert_exporter": "python",
   "pygments_lexer": "ipython2",
   "version": "2.7.6"
  }
 },
 "nbformat": 4,
 "nbformat_minor": 5
}
