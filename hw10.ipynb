{
 "cells": [
  {
   "cell_type": "code",
   "execution_count": null,
   "id": "initial_id",
   "metadata": {
    "collapsed": true
   },
   "outputs": [],
   "source": [
    ""
   ]
  },
  {
   "metadata": {},
   "cell_type": "markdown",
   "source": "Implement dropout algorithms in your neural network.\n",
   "id": "44042e2c32b4b153"
  },
  {
   "metadata": {
    "ExecuteTime": {
     "end_time": "2025-10-09T11:26:22.557806Z",
     "start_time": "2025-10-09T11:26:22.531006Z"
    }
   },
   "cell_type": "code",
   "source": [
    "class SimpleNN:\n",
    "    def __init__(self, input_dim, hidden_dim, output_dim, drop_prob=0.5, lr=0.01):\n",
    "        self.W1 = np.random.randn(input_dim, hidden_dim) * 0.01\n",
    "        self.b1 = np.zeros((1, hidden_dim))\n",
    "        self.W2 = np.random.randn(hidden_dim, output_dim) * 0.01\n",
    "        self.b2 = np.zeros((1, output_dim))\n",
    "        self.dropout = Dropout(drop_prob)\n",
    "        self.lr = lr\n",
    "\n",
    "    def relu(self, z):\n",
    "        return np.maximum(0, z)\n",
    "\n",
    "    def relu_deriv(self, z):\n",
    "        return (z > 0).astype(float)\n",
    "\n",
    "    def forward(self, X, training=True):\n",
    "        # Layer 1\n",
    "        self.z1 = X.dot(self.W1) + self.b1\n",
    "        self.a1 = self.relu(self.z1)\n",
    "\n",
    "        # Apply dropout here during training\n",
    "        self.a1_drop = self.dropout.forward(self.a1, training)\n",
    "\n",
    "        # Layer 2 (output)\n",
    "        self.z2 = self.a1_drop.dot(self.W2) + self.b2\n",
    "        return self.z2  # linear output (for regression)\n",
    "\n",
    "    def backward(self, X, y, out):\n",
    "        m = y.shape[0]\n",
    "        dZ2 = (out - y) / m\n",
    "        dW2 = self.a1_drop.T.dot(dZ2)\n",
    "        db2 = np.sum(dZ2, axis=0, keepdims=True)\n",
    "\n",
    "        dA1 = dZ2.dot(self.W2.T)\n",
    "        dA1 = self.dropout.backward(dA1)  # pass through dropout\n",
    "        dZ1 = dA1 * self.relu_deriv(self.z1)\n",
    "\n",
    "        dW1 = X.T.dot(dZ1)\n",
    "        db1 = np.sum(dZ1, axis=0, keepdims=True)\n",
    "\n",
    "        # Parameter updates\n",
    "        self.W1 -= self.lr * dW1\n",
    "        self.b1 -= self.lr * db1\n",
    "        self.W2 -= self.lr * dW2\n",
    "        self.b2 -= self.lr * db2\n",
    "\n",
    "    def train(self, X, y, epochs=100):\n",
    "        for epoch in range(epochs):\n",
    "            out = self.forward(X, training=True)\n",
    "            loss = np.mean((out - y) ** 2)\n",
    "            self.backward(X, y, out)\n",
    "            if epoch % 10 == 0:\n",
    "                print(f\"Epoch {epoch:03d} | Loss: {loss:.4f}\")\n",
    "\n"
   ],
   "id": "6e2d84c0ea6af347",
   "outputs": [],
   "execution_count": 2
  },
  {
   "metadata": {
    "ExecuteTime": {
     "end_time": "2025-10-09T11:26:25.998347Z",
     "start_time": "2025-10-09T11:26:25.994065Z"
    }
   },
   "cell_type": "code",
   "source": "",
   "id": "dae1914803c5d27b",
   "outputs": [],
   "execution_count": null
  },
  {
   "metadata": {
    "ExecuteTime": {
     "end_time": "2025-10-09T11:26:39.560670Z",
     "start_time": "2025-10-09T11:26:39.500307Z"
    }
   },
   "cell_type": "code",
   "source": [
    "# Generate simple data: y = 2x + 1 + noise\n",
    "np.random.seed(42)\n",
    "X = np.random.randn(200, 1)\n",
    "y = 2 * X + 1 + np.random.randn(200, 1) * 0.1\n",
    "\n",
    "model = SimpleNN(input_dim=1, hidden_dim=32, output_dim=1, drop_prob=0.3, lr=0.05)\n",
    "model.train(X, y, epochs=100)\n"
   ],
   "id": "a5cf1aa3201e5a8",
   "outputs": [
    {
     "name": "stdout",
     "output_type": "stream",
     "text": [
      "Epoch 000 | Loss: 4.3542\n",
      "Epoch 010 | Loss: 3.7941\n",
      "Epoch 020 | Loss: 3.5774\n",
      "Epoch 030 | Loss: 3.4489\n",
      "Epoch 040 | Loss: 3.2510\n",
      "Epoch 050 | Loss: 2.8682\n",
      "Epoch 060 | Loss: 2.1972\n",
      "Epoch 070 | Loss: 1.2750\n",
      "Epoch 080 | Loss: 0.7325\n",
      "Epoch 090 | Loss: 0.3912\n"
     ]
    }
   ],
   "execution_count": 3
  },
  {
   "metadata": {},
   "cell_type": "code",
   "outputs": [],
   "execution_count": null,
   "source": "",
   "id": "58fe8ddf8598ab1b"
  }
 ],
 "metadata": {
  "kernelspec": {
   "display_name": "Python 3",
   "language": "python",
   "name": "python3"
  },
  "language_info": {
   "codemirror_mode": {
    "name": "ipython",
    "version": 2
   },
   "file_extension": ".py",
   "mimetype": "text/x-python",
   "name": "python",
   "nbconvert_exporter": "python",
   "pygments_lexer": "ipython2",
   "version": "2.7.6"
  }
 },
 "nbformat": 4,
 "nbformat_minor": 5
}
