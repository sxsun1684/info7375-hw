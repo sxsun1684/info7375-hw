{
 "cells": [
  {
   "cell_type": "code",
   "execution_count": null,
   "id": "initial_id",
   "metadata": {
    "collapsed": true
   },
   "outputs": [],
   "source": [
    ""
   ]
  },
  {
   "metadata": {},
   "cell_type": "markdown",
   "source": "Implement dropout algorithms in your neural network.\n",
   "id": "44042e2c32b4b153"
  },
  {
   "metadata": {
    "jupyter": {
     "is_executing": true
    },
    "ExecuteTime": {
     "start_time": "2025-10-09T11:24:32.500593Z"
    }
   },
   "cell_type": "code",
   "source": [
    "import numpy as np\n",
    "\n",
    "class Dropout:\n",
    "    def __init__(self, drop_prob=0.5):\n",
    "        assert 0.0 <= drop_prob < 1.0\n",
    "        self.drop_prob = drop_prob\n",
    "        self.mask = None\n",
    "\n",
    "    def forward(self, X, training=True):\n",
    "        \"\"\"Apply dropout during training.\"\"\"\n",
    "        if training:\n",
    "            # Sample mask from Bernoulli distribution\n",
    "            self.mask = (np.random.rand(*X.shape) > self.drop_prob).astype(float)\n",
    "            # Scale the output to maintain expected value\n",
    "            return (X * self.mask) / (1.0 - self.drop_prob)\n",
    "        else:\n",
    "            # During inference, dropout is not applied\n",
    "            return X\n",
    "\n",
    "    def backward(self, dY):\n",
    "        \"\"\"Backpropagate through dropout.\"\"\"\n",
    "        return (dY * self.mask) / (1.0 - self.drop_prob)\n"
   ],
   "id": "6e2d84c0ea6af347",
   "outputs": [],
   "execution_count": null
  },
  {
   "metadata": {},
   "cell_type": "code",
   "outputs": [],
   "execution_count": null,
   "source": "",
   "id": "dae1914803c5d27b"
  }
 ],
 "metadata": {
  "kernelspec": {
   "display_name": "Python 3",
   "language": "python",
   "name": "python3"
  },
  "language_info": {
   "codemirror_mode": {
    "name": "ipython",
    "version": 2
   },
   "file_extension": ".py",
   "mimetype": "text/x-python",
   "name": "python",
   "nbconvert_exporter": "python",
   "pygments_lexer": "ipython2",
   "version": "2.7.6"
  }
 },
 "nbformat": 4,
 "nbformat_minor": 5
}
