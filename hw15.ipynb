{
 "cells": [
  {
   "metadata": {},
   "cell_type": "markdown",
   "source": "Develop a program for depthwise and pointwise convolutions. The program should take an initial image, kernel (filter), and produce the convoluted image based on the external flag that indicates either the depthwise or pointwise convolution.",
   "id": "2be87c70cd4f83f8"
  },
  {
   "metadata": {
    "collapsed": true,
    "ExecuteTime": {
     "end_time": "2025-10-30T04:18:18.074725Z",
     "start_time": "2025-10-30T04:17:57.719958Z"
    }
   },
   "cell_type": "code",
   "source": [
    "import numpy as np\n",
    "from scipy.signal import correlate2d\n",
    "\n",
    "\n",
    "def conv2d_single_channel(image, kernel):\n",
    "    \"\"\"Perform 2D convolution for a single channel.\"\"\"\n",
    "    return correlate2d(image, kernel, mode='valid')\n",
    "\n",
    "\n",
    "def depthwise_convolution(image, kernels):\n",
    "    \"\"\"\n",
    "    Perform depthwise convolution.\n",
    "    image: numpy array of shape (H, W, C_in)\n",
    "    kernels: numpy array of shape (C_in, kH, kW)\n",
    "    returns: numpy array of shape (H - kH + 1, W - kW + 1, C_in)\n",
    "    \"\"\"\n",
    "    H, W, C = image.shape\n",
    "    kC, kH, kW = kernels.shape\n",
    "    assert C == kC, \"Number of kernels must equal number of channels.\"\n",
    "\n",
    "    outputs = []\n",
    "    for c in range(C):\n",
    "        out = conv2d_single_channel(image[:, :, c], kernels[c])\n",
    "        outputs.append(out)\n",
    "    return np.stack(outputs, axis=-1)\n",
    "\n",
    "\n",
    "def pointwise_convolution(image, kernels):\n",
    "    \"\"\"\n",
    "    Perform pointwise convolution (1x1).\n",
    "    image: numpy array of shape (H, W, C_in)\n",
    "    kernels: numpy array of shape (C_out, C_in, 1, 1)\n",
    "    returns: numpy array of shape (H, W, C_out)\n",
    "    \"\"\"\n",
    "    H, W, C_in = image.shape\n",
    "    C_out, Ck, _, _ = kernels.shape\n",
    "    assert C_in == Ck, \"Input channels must match kernel input channels.\"\n",
    "\n",
    "    outputs = np.zeros((H, W, C_out))\n",
    "    for i in range(H):\n",
    "        for j in range(W):\n",
    "            pixel = image[i, j, :]  # vector of size C_in\n",
    "            for co in range(C_out):\n",
    "                weight = kernels[co, :, 0, 0]\n",
    "                outputs[i, j, co] = np.sum(pixel * weight)\n",
    "    return outputs\n",
    "\n",
    "\n",
    "def depthwise_pointwise_convolution(image, kernels, mode='depthwise'):\n",
    "    \"\"\"\n",
    "    Main function to perform convolution based on flag.\n",
    "    mode: 'depthwise' or 'pointwise'\n",
    "    \"\"\"\n",
    "    if mode == 'depthwise':\n",
    "        return depthwise_convolution(image, kernels)\n",
    "    elif mode == 'pointwise':\n",
    "        return pointwise_convolution(image, kernels)\n",
    "    else:\n",
    "        raise ValueError(\"Invalid mode. Use 'depthwise' or 'pointwise'.\")\n",
    "\n",
    "\n",
    "# ------------------- Example Usage -------------------\n",
    "\n",
    "if __name__ == \"__main__\":\n",
    "    # Example image: 4x4 with 3 channels\n",
    "    img = np.random.rand(4, 4, 3)\n",
    "\n",
    "    # Depthwise kernel: one 3x3 filter per channel\n",
    "    depthwise_kernels = np.random.randn(3, 3, 3)  # (C_in, kH, kW)\n",
    "\n",
    "    # Pointwise kernel: say we want 2 output channels\n",
    "    pointwise_kernels = np.random.randn(2, 3, 1, 1)  # (C_out, C_in, 1, 1)\n",
    "\n",
    "    # Perform depthwise\n",
    "    depth_out = depthwise_pointwise_convolution(img, depthwise_kernels, mode='depthwise')\n",
    "    print(\"Depthwise output shape:\", depth_out.shape)\n",
    "\n",
    "    # Perform pointwise\n",
    "    point_out = depthwise_pointwise_convolution(img, pointwise_kernels, mode='pointwise')\n",
    "    print(\"Pointwise output shape:\", point_out.shape)\n"
   ],
   "id": "initial_id",
   "outputs": [
    {
     "name": "stdout",
     "output_type": "stream",
     "text": [
      "Depthwise output shape: (2, 2, 3)\n",
      "Pointwise output shape: (4, 4, 2)\n"
     ]
    }
   ],
   "execution_count": 1
  },
  {
   "metadata": {},
   "cell_type": "code",
   "outputs": [],
   "execution_count": null,
   "source": "",
   "id": "14a5bd76f3981a5f"
  }
 ],
 "metadata": {
  "kernelspec": {
   "display_name": "Python 3",
   "language": "python",
   "name": "python3"
  },
  "language_info": {
   "codemirror_mode": {
    "name": "ipython",
    "version": 2
   },
   "file_extension": ".py",
   "mimetype": "text/x-python",
   "name": "python",
   "nbconvert_exporter": "python",
   "pygments_lexer": "ipython2",
   "version": "2.7.6"
  }
 },
 "nbformat": 4,
 "nbformat_minor": 5
}
