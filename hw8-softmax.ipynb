{
 "cells": [
  {
   "metadata": {},
   "cell_type": "markdown",
   "source": "Implement the softmax activation class.",
   "id": "a256807f63662d0f"
  },
  {
   "metadata": {
    "ExecuteTime": {
     "end_time": "2025-10-02T09:53:16.179484Z",
     "start_time": "2025-10-02T09:53:16.040781Z"
    }
   },
   "cell_type": "code",
   "source": "import numpy as np",
   "id": "bab5eafef045f7d5",
   "outputs": [],
   "execution_count": 1
  },
  {
   "metadata": {
    "collapsed": true,
    "ExecuteTime": {
     "end_time": "2025-10-02T09:53:17.960193Z",
     "start_time": "2025-10-02T09:53:17.952179Z"
    }
   },
   "cell_type": "code",
   "source": [
    "class Softmax:\n",
    "    def __init__(self):\n",
    "        pass\n",
    "\n",
    "    def forward(self, z):\n",
    "        # shift values for stability\n",
    "        z_shift = z - np.max(z, axis=0, keepdims=True)\n",
    "        exp_z = np.exp(z_shift)\n",
    "        self.a = exp_z / np.sum(exp_z, axis=0, keepdims=True)\n",
    "        return self.a\n",
    "\n",
    "    def backward(self, y):\n",
    "        # gradient of softmax + cross-entropy\n",
    "        return self.a - y\n"
   ],
   "id": "initial_id",
   "outputs": [],
   "execution_count": 2
  },
  {
   "metadata": {
    "ExecuteTime": {
     "end_time": "2025-10-02T09:53:23.852930Z",
     "start_time": "2025-10-02T09:53:23.846758Z"
    }
   },
   "cell_type": "code",
   "source": [
    "# logits for 3 classes, 3 samples\n",
    "z = np.array([[2.0, 1.0, 0.5],\n",
    "              [1.0, 3.0, 0.2],\n",
    "              [0.1, 0.5, 2.0]])\n",
    "\n",
    "softmax = Softmax()\n",
    "probs = softmax.forward(z)\n",
    "print(\"Softmax probabilities:\\n\", probs)\n",
    "\n",
    "# true labels (one-hot)\n",
    "y = np.array([[1, 0, 0],\n",
    "              [0, 1, 0],\n",
    "              [0, 0, 1]])\n",
    "\n",
    "# backprop result\n",
    "dz = softmax.backward(y)\n",
    "print(\"Gradient wrt logits:\\n\", dz)\n"
   ],
   "id": "f7aff28518ef5e8b",
   "outputs": [
    {
     "name": "stdout",
     "output_type": "stream",
     "text": [
      "Softmax probabilities:\n",
      " [[0.65900114 0.11116562 0.16070692]\n",
      " [0.24243297 0.82140902 0.11905462]\n",
      " [0.09856589 0.06742536 0.72023846]]\n",
      "Gradient wrt logits:\n",
      " [[-0.34099886  0.11116562  0.16070692]\n",
      " [ 0.24243297 -0.17859098  0.11905462]\n",
      " [ 0.09856589  0.06742536 -0.27976154]]\n"
     ]
    }
   ],
   "execution_count": 3
  },
  {
   "metadata": {},
   "cell_type": "code",
   "outputs": [],
   "execution_count": null,
   "source": "",
   "id": "5a4526232a2e09cf"
  }
 ],
 "metadata": {
  "kernelspec": {
   "display_name": "Python 3",
   "language": "python",
   "name": "python3"
  },
  "language_info": {
   "codemirror_mode": {
    "name": "ipython",
    "version": 2
   },
   "file_extension": ".py",
   "mimetype": "text/x-python",
   "name": "python",
   "nbconvert_exporter": "python",
   "pygments_lexer": "ipython2",
   "version": "2.7.6"
  }
 },
 "nbformat": 4,
 "nbformat_minor": 5
}
