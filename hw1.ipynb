{
 "cells": [
  {
   "metadata": {},
   "cell_type": "markdown",
   "source": "Develop software to simulate the McCulloch and Pitts model of artificial neuron. The simulated neuron takes input and generates output according to the activation function. Make sure that your simulation software is designed well to allow for further.enhancements",
   "id": "8a77807f92f26ee"
  },
  {
   "metadata": {
    "ExecuteTime": {
     "end_time": "2025-09-11T18:00:36.672456Z",
     "start_time": "2025-09-11T18:00:36.657677Z"
    }
   },
   "cell_type": "code",
   "source": [
    "import math\n",
    "\n",
    "# activation function：Sigmoid\n",
    "def sigmoid(x):\n",
    "    return 1 / (1 + math.exp(-x))\n",
    "\n",
    "class MPNeuron:\n",
    "    def __init__(self, weights, bias):\n",
    "        self.weights = weights\n",
    "        self.bias = bias\n",
    "\n",
    "    def forward(self, inputs):\n",
    "\n",
    "        s = sum(w * x for w, x in zip(self.weights, inputs)) + self.bias\n",
    "        return sigmoid(s)\n",
    "\n",
    "# test AND logic computation\n",
    "and_neuron = MPNeuron(weights=[1, 1], bias=-1.5)\n",
    "\n",
    "for x in [(0,0), (0,1), (1,0), (1,1)]:\n",
    "    y = and_neuron.forward(x)\n",
    "    print(f\"input: {x}, output: {y:.3f}\")\n",
    "\n",
    "# test OR logic computation\n",
    "or_neuron = MPNeuron(weights=[1, 1], bias=-0.5)\n",
    "print(\"\\nOR\")\n",
    "for x in [(0,0), (0,1), (1,0), (1,1)]:\n",
    "    print(f\"input: {x}, output:{or_neuron.forward(x):.3f}\")\n",
    "\n",
    "# test NOT logic computation\n",
    "not_neuron = MPNeuron(weights=[-1], bias=0.5)\n",
    "print(\"\\nNOT\")\n",
    "for x in [(0,), (1,)]:\n",
    "    print(f\"input: {x}, output:{not_neuron.forward(x):.3f}\")"
   ],
   "id": "fbc121e30a2defb3",
   "outputs": [
    {
     "name": "stdout",
     "output_type": "stream",
     "text": [
      "input: (0, 0), output: 0.182\n",
      "input: (0, 1), output: 0.378\n",
      "input: (1, 0), output: 0.378\n",
      "input: (1, 1), output: 0.622\n",
      "\n",
      "OR\n",
      "input: (0, 0), output:0.378\n",
      "input: (0, 1), output:0.622\n",
      "input: (1, 0), output:0.622\n",
      "input: (1, 1), output:0.818\n",
      "\n",
      "NOT\n",
      "input: (0,), output:0.622\n",
      "input: (1,), output:0.378\n"
     ]
    }
   ],
   "execution_count": 6
  }
 ],
 "metadata": {
  "kernelspec": {
   "display_name": "Python 3",
   "language": "python",
   "name": "python3"
  },
  "language_info": {
   "codemirror_mode": {
    "name": "ipython",
    "version": 2
   },
   "file_extension": ".py",
   "mimetype": "text/x-python",
   "name": "python",
   "nbconvert_exporter": "python",
   "pygments_lexer": "ipython2",
   "version": "2.7.6"
  }
 },
 "nbformat": 4,
 "nbformat_minor": 5
}
