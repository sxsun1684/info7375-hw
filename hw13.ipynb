{
 "cells": [
  {
   "metadata": {},
   "cell_type": "markdown",
   "source": "Implement a convolution algorithm without padding and without striding for original image 6 x 6 and filter 3 x 3.",
   "id": "dd782048b367f52f"
  },
  {
   "metadata": {
    "collapsed": true,
    "ExecuteTime": {
     "end_time": "2025-10-16T06:35:15.177614Z",
     "start_time": "2025-10-16T06:35:14.921385Z"
    }
   },
   "cell_type": "code",
   "source": [
    "import numpy as np\n",
    "\n",
    "# 6x6 original image (example values)\n",
    "image = np.array([\n",
    "    [1, 2, 0, 3, 1, 2],\n",
    "    [4, 1, 0, 1, 0, 1],\n",
    "    [1, 3, 2, 2, 3, 0],\n",
    "    [2, 1, 3, 1, 1, 2],\n",
    "    [0, 1, 2, 4, 2, 1],\n",
    "    [1, 0, 3, 2, 1, 0]\n",
    "])\n",
    "\n",
    "# 3x3 filter (kernel)\n",
    "kernel = np.array([\n",
    "    [1, 0, 1],\n",
    "    [0, 1, 0],\n",
    "    [1, 0, 1]\n",
    "])\n",
    "\n",
    "# Output dimensions\n",
    "output_size = image.shape[0] - kernel.shape[0] + 1\n",
    "output = np.zeros((output_size, output_size))\n",
    "\n",
    "# Convolution operation\n",
    "for i in range(output_size):\n",
    "    for j in range(output_size):\n",
    "        # Extract current region of the image\n",
    "        region = image[i:i+kernel.shape[0], j:j+kernel.shape[1]]\n",
    "        # Element-wise multiply and sum\n",
    "        output[i, j] = np.sum(region * kernel)\n",
    "\n",
    "print(\"Output feature map (4x4):\")\n",
    "print(output)\n"
   ],
   "id": "initial_id",
   "outputs": [
    {
     "name": "stdout",
     "output_type": "stream",
     "text": [
      "Output feature map (4x4):\n",
      "[[ 5. 10.  7.  7.]\n",
      " [12.  6.  6.  8.]\n",
      " [ 6. 13. 10.  8.]\n",
      " [10.  6. 12.  7.]]\n"
     ]
    }
   ],
   "execution_count": 1
  },
  {
   "metadata": {},
   "cell_type": "code",
   "outputs": [],
   "execution_count": null,
   "source": "",
   "id": "9b44ba680419c599"
  }
 ],
 "metadata": {
  "kernelspec": {
   "display_name": "Python 3",
   "language": "python",
   "name": "python3"
  },
  "language_info": {
   "codemirror_mode": {
    "name": "ipython",
    "version": 2
   },
   "file_extension": ".py",
   "mimetype": "text/x-python",
   "name": "python",
   "nbconvert_exporter": "python",
   "pygments_lexer": "ipython2",
   "version": "2.7.6"
  }
 },
 "nbformat": 4,
 "nbformat_minor": 5
}
