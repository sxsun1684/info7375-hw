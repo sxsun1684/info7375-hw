{
 "cells": [
  {
   "metadata": {},
   "cell_type": "markdown",
   "source": "Implement input normalization algorithm.",
   "id": "e6048f30fcc81a2d"
  },
  {
   "metadata": {
    "ExecuteTime": {
     "end_time": "2025-10-09T11:23:27.600254Z",
     "start_time": "2025-10-09T11:23:27.384325Z"
    }
   },
   "cell_type": "code",
   "source": [
    "import numpy as np\n",
    "\n",
    "class Normalizer:\n",
    "    def __init__(self):\n",
    "        self.mean = None\n",
    "        self.std = None\n",
    "\n",
    "    def fit(self, X):\n",
    "        \"\"\"Compute mean and std for each feature.\"\"\"\n",
    "        self.mean = np.mean(X, axis=0)\n",
    "        self.std = np.std(X, axis=0)\n",
    "        # Avoid division by zero\n",
    "        self.std[self.std == 0] = 1e-8\n",
    "\n",
    "    def transform(self, X):\n",
    "        \"\"\"Apply normalization using previously computed mean/std.\"\"\"\n",
    "        return (X - self.mean) / self.std\n",
    "\n",
    "    def fit_transform(self, X):\n",
    "        \"\"\"Fit to data, then transform.\"\"\"\n",
    "        self.fit(X)\n",
    "        return self.transform(X)\n",
    "\n",
    "    def inverse_transform(self, X_norm):\n",
    "        \"\"\"Revert normalized data back to original scale.\"\"\"\n",
    "        return X_norm * self.std + self.mean\n",
    "\n",
    "\n",
    "# ---- Example usage ----\n",
    "np.random.seed(0)\n",
    "X = np.random.randint(0, 100, size=(5, 3)).astype(float)  # 5 samples, 3 features\n",
    "print(\"Original data:\\n\", X)\n",
    "\n",
    "scaler = Normalizer()\n",
    "X_norm = scaler.fit_transform(X)\n",
    "\n",
    "print(\"\\nNormalized data:\\n\", X_norm)\n",
    "print(\"\\nMean:\", scaler.mean)\n",
    "print(\"Std:\", scaler.std)\n",
    "\n",
    "# Optional: recover original\n",
    "X_original = scaler.inverse_transform(X_norm)\n",
    "print(\"\\nRecovered data:\\n\", X_original)\n"
   ],
   "id": "5961aaf496757c2f",
   "outputs": [
    {
     "name": "stdout",
     "output_type": "stream",
     "text": [
      "Original data:\n",
      " [[44. 47. 64.]\n",
      " [67. 67.  9.]\n",
      " [83. 21. 36.]\n",
      " [87. 70. 88.]\n",
      " [88. 12. 58.]]\n",
      "\n",
      "Normalized data:\n",
      " [[-1.78420724  0.15308204  0.48610445]\n",
      " [-0.40713454  1.00353779 -1.57049131]\n",
      " [ 0.55082908 -0.95251044 -0.56088975]\n",
      " [ 0.79031998  1.13110615  1.38352806]\n",
      " [ 0.85019271 -1.33521553  0.26174855]]\n",
      "\n",
      "Mean: [73.8 43.4 51. ]\n",
      "Std: [16.70209568 23.5168025  26.74322344]\n",
      "\n",
      "Recovered data:\n",
      " [[44. 47. 64.]\n",
      " [67. 67.  9.]\n",
      " [83. 21. 36.]\n",
      " [87. 70. 88.]\n",
      " [88. 12. 58.]]\n"
     ]
    }
   ],
   "execution_count": 1
  },
  {
   "metadata": {},
   "cell_type": "code",
   "outputs": [],
   "execution_count": null,
   "source": "",
   "id": "4638a1f546c89c30"
  }
 ],
 "metadata": {
  "kernelspec": {
   "display_name": "Python 3",
   "language": "python",
   "name": "python3"
  },
  "language_info": {
   "codemirror_mode": {
    "name": "ipython",
    "version": 2
   },
   "file_extension": ".py",
   "mimetype": "text/x-python",
   "name": "python",
   "nbconvert_exporter": "python",
   "pygments_lexer": "ipython2",
   "version": "2.7.6"
  }
 },
 "nbformat": 4,
 "nbformat_minor": 5
}
